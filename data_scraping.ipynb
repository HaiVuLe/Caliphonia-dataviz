{
 "cells": [
  {
   "cell_type": "code",
   "execution_count": 29,
   "metadata": {},
   "outputs": [],
   "source": [
    "import requests\n",
    "import json\n",
    "import time\n",
    "import pandas as pd\n",
    "import numpy as np"
   ]
  },
  {
   "cell_type": "markdown",
   "metadata": {},
   "source": [
    "# Authentication"
   ]
  },
  {
   "cell_type": "code",
   "execution_count": 13,
   "metadata": {},
   "outputs": [],
   "source": [
    "def load_credentials(filename):\n",
    "    \"\"\"Take a file containing API info and return client id and access token\"\"\"\n",
    "    with open(filename) as f:\n",
    "        client_id, access_token = f.read().split(',')\n",
    "    return client_id, access_token"
   ]
  },
  {
   "cell_type": "code",
   "execution_count": 14,
   "metadata": {},
   "outputs": [],
   "source": [
    "client_id, api_key = load_credentials('/Users/haivule/Dropbox/licenses/yelp_api.txt')"
   ]
  },
  {
   "cell_type": "markdown",
   "metadata": {},
   "source": [
    "# CA cities"
   ]
  },
  {
   "cell_type": "code",
   "execution_count": 16,
   "metadata": {},
   "outputs": [],
   "source": [
    "cities_fname = \"/Users/haivule/Documents/USF/spring2/data-viz/uscities.csv\"\n",
    "\n",
    "cities = pd.read_csv(cities_fname)\n",
    "CA_cities = cities[cities['state_id']== 'CA']['city'].values"
   ]
  },
  {
   "cell_type": "code",
   "execution_count": 17,
   "metadata": {},
   "outputs": [
    {
     "data": {
      "text/plain": [
       "array(['La Quinta', 'Saint Helena', 'Burney', ..., 'La Mesa',\n",
       "       'Montebello', 'Canyondam'], dtype=object)"
      ]
     },
     "execution_count": 17,
     "metadata": {},
     "output_type": "execute_result"
    }
   ],
   "source": [
    "CA_cities"
   ]
  },
  {
   "cell_type": "code",
   "execution_count": 18,
   "metadata": {},
   "outputs": [
    {
     "data": {
      "text/plain": [
       "1625"
      ]
     },
     "execution_count": 18,
     "metadata": {},
     "output_type": "execute_result"
    }
   ],
   "source": [
    "len(CA_cities)"
   ]
  },
  {
   "cell_type": "markdown",
   "metadata": {},
   "source": [
    "# all \"Food\" results in each city"
   ]
  },
  {
   "cell_type": "code",
   "execution_count": 7,
   "metadata": {},
   "outputs": [],
   "source": [
    "def business_search(search_term, location, offset, limit=50):\n",
    "    url = 'https://api.yelp.com/v3/businesses/search'\n",
    "    headers = {'Authorization': 'bearer %s' % api_key}\n",
    "    params = {'location': f'{location}, CA',\n",
    "              'term': search_term,\n",
    "              'offset': offset,\n",
    "              'limit': 50}\n",
    "\n",
    "    resp = requests.get(url=url, params=params, headers=headers)\n",
    "    return resp.json()"
   ]
  },
  {
   "cell_type": "code",
   "execution_count": 27,
   "metadata": {},
   "outputs": [],
   "source": [
    "total = {}\n",
    "for city in CA_cities:\n",
    "    n_businesses = business_search(search_term='Food', location=city, offset=0, limit=1)['total']\n",
    "    total[city] = n_businesses"
   ]
  },
  {
   "cell_type": "code",
   "execution_count": 35,
   "metadata": {},
   "outputs": [],
   "source": [
    "all_cuisine_CA = pd.DataFrame.from_dict(total, orient='index').reset_index()\n",
    "all_cuisine_CA.columns = ['city', 'num_resto']"
   ]
  },
  {
   "cell_type": "code",
   "execution_count": 39,
   "metadata": {},
   "outputs": [],
   "source": [
    "all_cuisine_CA.to_csv('/Users/haivule/Documents/USF/spring2/data-viz/final-project/all_cuisine.csv', index=False)"
   ]
  },
  {
   "cell_type": "code",
   "execution_count": 81,
   "metadata": {},
   "outputs": [
    {
     "data": {
      "text/html": [
       "<div>\n",
       "<style scoped>\n",
       "    .dataframe tbody tr th:only-of-type {\n",
       "        vertical-align: middle;\n",
       "    }\n",
       "\n",
       "    .dataframe tbody tr th {\n",
       "        vertical-align: top;\n",
       "    }\n",
       "\n",
       "    .dataframe thead th {\n",
       "        text-align: right;\n",
       "    }\n",
       "</style>\n",
       "<table border=\"1\" class=\"dataframe\">\n",
       "  <thead>\n",
       "    <tr style=\"text-align: right;\">\n",
       "      <th></th>\n",
       "      <th>city</th>\n",
       "      <th>num_resto</th>\n",
       "    </tr>\n",
       "  </thead>\n",
       "  <tbody>\n",
       "    <tr>\n",
       "      <th>0</th>\n",
       "      <td>La Quinta</td>\n",
       "      <td>634</td>\n",
       "    </tr>\n",
       "    <tr>\n",
       "      <th>1</th>\n",
       "      <td>Saint Helena</td>\n",
       "      <td>336</td>\n",
       "    </tr>\n",
       "    <tr>\n",
       "      <th>2</th>\n",
       "      <td>Burney</td>\n",
       "      <td>17</td>\n",
       "    </tr>\n",
       "    <tr>\n",
       "      <th>3</th>\n",
       "      <td>Kensington</td>\n",
       "      <td>306</td>\n",
       "    </tr>\n",
       "    <tr>\n",
       "      <th>4</th>\n",
       "      <td>Upper Lake</td>\n",
       "      <td>89</td>\n",
       "    </tr>\n",
       "  </tbody>\n",
       "</table>\n",
       "</div>"
      ],
      "text/plain": [
       "           city  num_resto\n",
       "0     La Quinta        634\n",
       "1  Saint Helena        336\n",
       "2        Burney         17\n",
       "3    Kensington        306\n",
       "4    Upper Lake         89"
      ]
     },
     "execution_count": 81,
     "metadata": {},
     "output_type": "execute_result"
    }
   ],
   "source": [
    "all_cuisine_CA = pd.read_csv('/Users/haivule/Documents/USF/spring2/data-viz/final-project/data/all_cuisine.csv')\n",
    "all_cuisine_CA.head()"
   ]
  },
  {
   "cell_type": "code",
   "execution_count": 98,
   "metadata": {},
   "outputs": [
    {
     "data": {
      "text/html": [
       "<div>\n",
       "<style scoped>\n",
       "    .dataframe tbody tr th:only-of-type {\n",
       "        vertical-align: middle;\n",
       "    }\n",
       "\n",
       "    .dataframe tbody tr th {\n",
       "        vertical-align: top;\n",
       "    }\n",
       "\n",
       "    .dataframe thead th {\n",
       "        text-align: right;\n",
       "    }\n",
       "</style>\n",
       "<table border=\"1\" class=\"dataframe\">\n",
       "  <thead>\n",
       "    <tr style=\"text-align: right;\">\n",
       "      <th></th>\n",
       "      <th>city</th>\n",
       "      <th>num_resto</th>\n",
       "    </tr>\n",
       "  </thead>\n",
       "  <tbody>\n",
       "    <tr>\n",
       "      <th>205</th>\n",
       "      <td>Santa Fe Springs</td>\n",
       "      <td>18000</td>\n",
       "    </tr>\n",
       "  </tbody>\n",
       "</table>\n",
       "</div>"
      ],
      "text/plain": [
       "                 city  num_resto\n",
       "205  Santa Fe Springs      18000"
      ]
     },
     "execution_count": 98,
     "metadata": {},
     "output_type": "execute_result"
    }
   ],
   "source": [
    "all_cuisine_CA[all_cuisine_CA['city']==location]"
   ]
  },
  {
   "cell_type": "markdown",
   "metadata": {},
   "source": [
    "# all \"Vietnamese Food\" in each city"
   ]
  },
  {
   "cell_type": "code",
   "execution_count": 22,
   "metadata": {},
   "outputs": [
    {
     "name": "stdout",
     "output_type": "stream",
     "text": [
      "['categories_alias', 'categories_title', 'coordinates_latitude', 'coordinates_longitude', 'location_address1', 'location_city', 'location_state', 'location_address2', 'location_zip_code', 'location_country', 'location_address3']\n"
     ]
    }
   ],
   "source": [
    "\n",
    "nested_fields = {'categories':{'alias', 'title'}, \n",
    "                 'coordinates':{'latitude', 'longitude'}, \n",
    "                 'location':{'address1', 'address2', 'address3', 'city', \n",
    "                             'country', 'state', 'zip_code'}}\n",
    "\n",
    "single_fields = ['id', 'display_phone', 'distance', 'alias', 'image_url',\n",
    "                 'name', 'phone', 'price', 'rating',\n",
    "                 'review_count', 'url', 'transactions']\n",
    "\n",
    "unnested_fields = []\n",
    "for field in nested_fields:\n",
    "    sub_fields = nested_fields[field]\n",
    "    for sub_field in sub_fields:\n",
    "        unnested_fields.append(f\"{field}_{sub_field}\")\n",
    "\n",
    "print(unnested_fields)"
   ]
  },
  {
   "cell_type": "code",
   "execution_count": 23,
   "metadata": {},
   "outputs": [],
   "source": [
    "def extract(raw_json, field):\n",
    "    \"\"\"Extraction robust to null values\"\"\"\n",
    "    if len(field) == 2:\n",
    "        try:\n",
    "            parent, child = field\n",
    "            return raw_json[parent][child]\n",
    "        except:\n",
    "            return np.nan\n",
    "    try:\n",
    "        return raw_json[field[0]]\n",
    "    except:\n",
    "        return np.nan"
   ]
  },
  {
   "cell_type": "code",
   "execution_count": 24,
   "metadata": {},
   "outputs": [],
   "source": [
    "def parse_response(response):\n",
    "    \"\"\"\n",
    "    Take the raw json output returned from the api call\n",
    "    and return the parsed data as a dictionary.\n",
    "    \"\"\"\n",
    "    business_info = response['businesses']\n",
    "    num = len(business_info)\n",
    "    \n",
    "    parsed_all = {}\n",
    "    \n",
    "    \n",
    "    for i in range(num):\n",
    "        parsed_each = {}\n",
    "        # parse single fields\n",
    "        for field in single_fields:\n",
    "            parsed_each[field] = extract(business_info[i], [field])\n",
    "        \n",
    "        # parse nested fields\n",
    "        for field in nested_fields.keys():\n",
    "            if field == 'categories':\n",
    "                all_categories = business_info[i][field]\n",
    "                if len(all_categories) == 0: alias = np.nan; title = np.nan\n",
    "                alias = []\n",
    "                title = []\n",
    "                for category in all_categories:\n",
    "                    alias.append(category['alias'])\n",
    "                    title.append(category['title'])\n",
    "            parsed_each[\"categories_alias\"] = alias\n",
    "            parsed_each[\"categories_title\"] = title\n",
    "\n",
    "            sub_fields = nested_fields[field]\n",
    "            for sub_field in sub_fields:\n",
    "                unnested = f\"{field}_{sub_field}\"\n",
    "                parsed_each[unnested] = extract(business_info[i], [field, sub_field])\n",
    "        parsed_all[i] = parsed_each\n",
    "    \n",
    "    return parsed_all"
   ]
  },
  {
   "cell_type": "code",
   "execution_count": 25,
   "metadata": {},
   "outputs": [],
   "source": [
    "def response_to_df(response):\n",
    "    \"\"\"Take raw response and return a pd.DataFrame\"\"\"\n",
    "    parsed_output = parse_response(response)\n",
    "    return pd.DataFrame(parsed_output).T  # transpose\n",
    "\n",
    "\n",
    "def accumulate_df(current_df, new_df):\n",
    "    return current_df.append(new_df, ignore_index=True)"
   ]
  },
  {
   "cell_type": "code",
   "execution_count": 26,
   "metadata": {},
   "outputs": [],
   "source": [
    "def df_to_file(df, location:str):\n",
    "    output_file = \"./data/business_info_{}.csv\".format('_'.join(location.split()))\n",
    "    df.to_csv(output_file, index=False)"
   ]
  },
  {
   "cell_type": "code",
   "execution_count": 105,
   "metadata": {},
   "outputs": [],
   "source": [
    "def scrape(location):\n",
    "    n_businesses = business_search(search_term=\"Vietnamese Restaurant\", location=location, offset=0, limit=1)['total']\n",
    "    if n_businesses == 0: \n",
    "        return\n",
    "    if n_businesses > 1000:\n",
    "        n_businesses = 1000  # cuz Yelp only returns 1000 results max\n",
    "        \n",
    "    df = pd.DataFrame()\n",
    "    for batch_idx in range((n_businesses-1)//50 +1):\n",
    "        response = business_search(search_term=\"Vietnamese Restaurant\", location=location, offset = batch_idx*50)\n",
    "        new_df = response_to_df(response)\n",
    "        df = accumulate_df(current_df=df, new_df=new_df)\n",
    "        df = df.iloc[:n_businesses] # as the last batch may have duplicate results\n",
    "        df_to_file(df, location)\n",
    "    return df"
   ]
  },
  {
   "cell_type": "code",
   "execution_count": 193,
   "metadata": {},
   "outputs": [],
   "source": [
    "# vn_CA = {}\n",
    "# df_all = pd.DataFrame()  # already run cities[70:100]\n",
    "\n",
    "for city in CA_cities[1600:]:\n",
    "    if city in ['San Francisco', 'San Jose']:\n",
    "        pass\n",
    "    else:\n",
    "        df_city = scrape(city)\n",
    "        if df_city is None:\n",
    "            vn_CA[city] = 0\n",
    "            pass\n",
    "        else:\n",
    "            df_all = accumulate_df(current_df=df_all, new_df=df_city)\n",
    "            vn_CA[city] = df_city.shape[0]"
   ]
  },
  {
   "cell_type": "markdown",
   "metadata": {},
   "source": [
    "# Save to csv"
   ]
  },
  {
   "cell_type": "code",
   "execution_count": 194,
   "metadata": {},
   "outputs": [
    {
     "data": {
      "text/plain": [
       "(135044, 23)"
      ]
     },
     "execution_count": 194,
     "metadata": {},
     "output_type": "execute_result"
    }
   ],
   "source": [
    "df_all.shape"
   ]
  },
  {
   "cell_type": "code",
   "execution_count": 48,
   "metadata": {},
   "outputs": [],
   "source": [
    "# t = df_all"
   ]
  },
  {
   "cell_type": "code",
   "execution_count": 195,
   "metadata": {},
   "outputs": [
    {
     "data": {
      "text/plain": [
       "1623"
      ]
     },
     "execution_count": 195,
     "metadata": {},
     "output_type": "execute_result"
    }
   ],
   "source": [
    "len(vn_CA)"
   ]
  },
  {
   "cell_type": "code",
   "execution_count": 197,
   "metadata": {},
   "outputs": [],
   "source": [
    "df_sf = pd.read_csv('./data/business_info_San_Francisco.csv')\n",
    "df_sj = pd.read_csv('./data/business_info_San_Jose.csv')"
   ]
  },
  {
   "cell_type": "code",
   "execution_count": 178,
   "metadata": {},
   "outputs": [],
   "source": [
    "# business_search(search_term=\"Vietnamese Restaurant\", location=\"San Francisco\", offset=0)"
   ]
  },
  {
   "cell_type": "code",
   "execution_count": 203,
   "metadata": {},
   "outputs": [],
   "source": [
    "df_all = accumulate_df(current_df=df_all, new_df=df_sj)"
   ]
  },
  {
   "cell_type": "code",
   "execution_count": 204,
   "metadata": {},
   "outputs": [
    {
     "data": {
      "text/plain": [
       "(136875, 23)"
      ]
     },
     "execution_count": 204,
     "metadata": {},
     "output_type": "execute_result"
    }
   ],
   "source": [
    "df_all.shape"
   ]
  },
  {
   "cell_type": "code",
   "execution_count": 214,
   "metadata": {},
   "outputs": [],
   "source": [
    "df_all['categories_alias'] = df_all['categories_alias'].apply(lambda x: ','.join(x))"
   ]
  },
  {
   "cell_type": "code",
   "execution_count": 217,
   "metadata": {},
   "outputs": [],
   "source": [
    "df_all['categories_title'] = df_all['categories_title'].apply(lambda x: ','.join(x))"
   ]
  },
  {
   "cell_type": "code",
   "execution_count": 218,
   "metadata": {},
   "outputs": [],
   "source": [
    "df_all['transactions'] = df_all['transactions'].apply(lambda x: ','.join(x))"
   ]
  },
  {
   "cell_type": "code",
   "execution_count": 221,
   "metadata": {},
   "outputs": [],
   "source": [
    "df_all = df_all.drop_duplicates()"
   ]
  },
  {
   "cell_type": "code",
   "execution_count": 227,
   "metadata": {},
   "outputs": [],
   "source": [
    "df_all.to_csv('vietnamese_restaurant_CA_all_results.csv', index=False)"
   ]
  },
  {
   "cell_type": "code",
   "execution_count": 226,
   "metadata": {},
   "outputs": [
    {
     "data": {
      "text/plain": [
       "(128493, 23)"
      ]
     },
     "execution_count": 226,
     "metadata": {},
     "output_type": "execute_result"
    }
   ],
   "source": [
    "df_all.shape"
   ]
  },
  {
   "cell_type": "code",
   "execution_count": 228,
   "metadata": {},
   "outputs": [],
   "source": [
    "vn_df = df_all[df_all['categories_title'].str.contains('Vietnamese')==True]"
   ]
  },
  {
   "cell_type": "code",
   "execution_count": 229,
   "metadata": {},
   "outputs": [
    {
     "data": {
      "text/plain": [
       "(46135, 23)"
      ]
     },
     "execution_count": 229,
     "metadata": {},
     "output_type": "execute_result"
    }
   ],
   "source": [
    "vn_df.shape"
   ]
  },
  {
   "cell_type": "code",
   "execution_count": 230,
   "metadata": {},
   "outputs": [],
   "source": [
    "vn_df.to_csv('vietnamese_restaurant_CA.csv', index=False)"
   ]
  },
  {
   "cell_type": "code",
   "execution_count": 231,
   "metadata": {},
   "outputs": [
    {
     "data": {
      "text/plain": [
       "(46135, 23)"
      ]
     },
     "execution_count": 231,
     "metadata": {},
     "output_type": "execute_result"
    }
   ],
   "source": [
    "t = pd.read_csv('vietnamese_restaurant_CA.csv')\n",
    "t.shape"
   ]
  },
  {
   "cell_type": "code",
   "execution_count": 232,
   "metadata": {},
   "outputs": [
    {
     "data": {
      "text/html": [
       "<div>\n",
       "<style scoped>\n",
       "    .dataframe tbody tr th:only-of-type {\n",
       "        vertical-align: middle;\n",
       "    }\n",
       "\n",
       "    .dataframe tbody tr th {\n",
       "        vertical-align: top;\n",
       "    }\n",
       "\n",
       "    .dataframe thead th {\n",
       "        text-align: right;\n",
       "    }\n",
       "</style>\n",
       "<table border=\"1\" class=\"dataframe\">\n",
       "  <thead>\n",
       "    <tr style=\"text-align: right;\">\n",
       "      <th></th>\n",
       "      <th>alias</th>\n",
       "      <th>categories_alias</th>\n",
       "      <th>categories_title</th>\n",
       "      <th>coordinates_latitude</th>\n",
       "      <th>coordinates_longitude</th>\n",
       "      <th>display_phone</th>\n",
       "      <th>distance</th>\n",
       "      <th>id</th>\n",
       "      <th>image_url</th>\n",
       "      <th>location_address1</th>\n",
       "      <th>...</th>\n",
       "      <th>location_country</th>\n",
       "      <th>location_state</th>\n",
       "      <th>location_zip_code</th>\n",
       "      <th>name</th>\n",
       "      <th>phone</th>\n",
       "      <th>price</th>\n",
       "      <th>rating</th>\n",
       "      <th>review_count</th>\n",
       "      <th>transactions</th>\n",
       "      <th>url</th>\n",
       "    </tr>\n",
       "  </thead>\n",
       "  <tbody>\n",
       "    <tr>\n",
       "      <th>0</th>\n",
       "      <td>pho-vu-la-quinta</td>\n",
       "      <td>vietnamese</td>\n",
       "      <td>Vietnamese</td>\n",
       "      <td>33.707539</td>\n",
       "      <td>-116.272491</td>\n",
       "      <td>(760) 775-2417</td>\n",
       "      <td>1937.578321</td>\n",
       "      <td>FWhjge1DykCtlVjBU5KhmA</td>\n",
       "      <td>https://s3-media3.fl.yelpcdn.com/bphoto/gWXGfx...</td>\n",
       "      <td>79-630 Hwy 111</td>\n",
       "      <td>...</td>\n",
       "      <td>US</td>\n",
       "      <td>CA</td>\n",
       "      <td>92253</td>\n",
       "      <td>Pho Vu</td>\n",
       "      <td>1.760775e+10</td>\n",
       "      <td>$</td>\n",
       "      <td>4.0</td>\n",
       "      <td>441</td>\n",
       "      <td>NaN</td>\n",
       "      <td>https://www.yelp.com/biz/pho-vu-la-quinta?adju...</td>\n",
       "    </tr>\n",
       "    <tr>\n",
       "      <th>1</th>\n",
       "      <td>pho-of-the-desert-indio</td>\n",
       "      <td>vietnamese</td>\n",
       "      <td>Vietnamese</td>\n",
       "      <td>33.716305</td>\n",
       "      <td>-116.232306</td>\n",
       "      <td>(760) 775-1500</td>\n",
       "      <td>5697.759701</td>\n",
       "      <td>86ljJKAJv5bLzEVveCrf9g</td>\n",
       "      <td>https://s3-media1.fl.yelpcdn.com/bphoto/sFD7PR...</td>\n",
       "      <td>82128 US Hwy 111</td>\n",
       "      <td>...</td>\n",
       "      <td>US</td>\n",
       "      <td>CA</td>\n",
       "      <td>92201</td>\n",
       "      <td>Pho of the Desert</td>\n",
       "      <td>1.760775e+10</td>\n",
       "      <td>$</td>\n",
       "      <td>4.0</td>\n",
       "      <td>252</td>\n",
       "      <td>NaN</td>\n",
       "      <td>https://www.yelp.com/biz/pho-of-the-desert-ind...</td>\n",
       "    </tr>\n",
       "    <tr>\n",
       "      <th>2</th>\n",
       "      <td>kettles-vietnamese-bistro-santa-rosa</td>\n",
       "      <td>vietnamese</td>\n",
       "      <td>Vietnamese</td>\n",
       "      <td>38.459496</td>\n",
       "      <td>-122.732201</td>\n",
       "      <td>(707) 528-3747</td>\n",
       "      <td>23740.152826</td>\n",
       "      <td>wxPfjrSBQWcSRCPy56jA1w</td>\n",
       "      <td>https://s3-media4.fl.yelpcdn.com/bphoto/KhD18f...</td>\n",
       "      <td>1202 W Steele Ln</td>\n",
       "      <td>...</td>\n",
       "      <td>US</td>\n",
       "      <td>CA</td>\n",
       "      <td>95403</td>\n",
       "      <td>Kettles Vietnamese Bistro</td>\n",
       "      <td>1.707528e+10</td>\n",
       "      <td>$$</td>\n",
       "      <td>4.0</td>\n",
       "      <td>380</td>\n",
       "      <td>pickup</td>\n",
       "      <td>https://www.yelp.com/biz/kettles-vietnamese-bi...</td>\n",
       "    </tr>\n",
       "    <tr>\n",
       "      <th>3</th>\n",
       "      <td>pho-sonoma-vietnamese-cuisine-petaluma</td>\n",
       "      <td>vietnamese</td>\n",
       "      <td>Vietnamese</td>\n",
       "      <td>38.233230</td>\n",
       "      <td>-122.637370</td>\n",
       "      <td>(707) 762-6888</td>\n",
       "      <td>33687.384504</td>\n",
       "      <td>chcy5OiTcxXXi9U_nYCR4A</td>\n",
       "      <td>https://s3-media3.fl.yelpcdn.com/bphoto/boCwI_...</td>\n",
       "      <td>140 2nd St</td>\n",
       "      <td>...</td>\n",
       "      <td>US</td>\n",
       "      <td>CA</td>\n",
       "      <td>94952</td>\n",
       "      <td>Pho Sonoma Vietnamese Cuisine</td>\n",
       "      <td>1.707763e+10</td>\n",
       "      <td>$$</td>\n",
       "      <td>4.5</td>\n",
       "      <td>133</td>\n",
       "      <td>NaN</td>\n",
       "      <td>https://www.yelp.com/biz/pho-sonoma-vietnamese...</td>\n",
       "    </tr>\n",
       "    <tr>\n",
       "      <th>4</th>\n",
       "      <td>bui-bistro-napa</td>\n",
       "      <td>vietnamese,french</td>\n",
       "      <td>Vietnamese,French</td>\n",
       "      <td>38.300850</td>\n",
       "      <td>-122.286410</td>\n",
       "      <td>(707) 255-5417</td>\n",
       "      <td>27512.616150</td>\n",
       "      <td>6keF8wbnbKzOAMRsyZ9SuA</td>\n",
       "      <td>https://s3-media1.fl.yelpcdn.com/bphoto/dZhs67...</td>\n",
       "      <td>976 Pearl St</td>\n",
       "      <td>...</td>\n",
       "      <td>US</td>\n",
       "      <td>CA</td>\n",
       "      <td>94559</td>\n",
       "      <td>Bui Bistro</td>\n",
       "      <td>1.707256e+10</td>\n",
       "      <td>$$</td>\n",
       "      <td>3.5</td>\n",
       "      <td>250</td>\n",
       "      <td>NaN</td>\n",
       "      <td>https://www.yelp.com/biz/bui-bistro-napa?adjus...</td>\n",
       "    </tr>\n",
       "  </tbody>\n",
       "</table>\n",
       "<p>5 rows × 23 columns</p>\n",
       "</div>"
      ],
      "text/plain": [
       "                                    alias   categories_alias  \\\n",
       "0                        pho-vu-la-quinta         vietnamese   \n",
       "1                 pho-of-the-desert-indio         vietnamese   \n",
       "2    kettles-vietnamese-bistro-santa-rosa         vietnamese   \n",
       "3  pho-sonoma-vietnamese-cuisine-petaluma         vietnamese   \n",
       "4                         bui-bistro-napa  vietnamese,french   \n",
       "\n",
       "    categories_title  coordinates_latitude  coordinates_longitude  \\\n",
       "0         Vietnamese             33.707539            -116.272491   \n",
       "1         Vietnamese             33.716305            -116.232306   \n",
       "2         Vietnamese             38.459496            -122.732201   \n",
       "3         Vietnamese             38.233230            -122.637370   \n",
       "4  Vietnamese,French             38.300850            -122.286410   \n",
       "\n",
       "    display_phone      distance                      id  \\\n",
       "0  (760) 775-2417   1937.578321  FWhjge1DykCtlVjBU5KhmA   \n",
       "1  (760) 775-1500   5697.759701  86ljJKAJv5bLzEVveCrf9g   \n",
       "2  (707) 528-3747  23740.152826  wxPfjrSBQWcSRCPy56jA1w   \n",
       "3  (707) 762-6888  33687.384504  chcy5OiTcxXXi9U_nYCR4A   \n",
       "4  (707) 255-5417  27512.616150  6keF8wbnbKzOAMRsyZ9SuA   \n",
       "\n",
       "                                           image_url location_address1  ...  \\\n",
       "0  https://s3-media3.fl.yelpcdn.com/bphoto/gWXGfx...    79-630 Hwy 111  ...   \n",
       "1  https://s3-media1.fl.yelpcdn.com/bphoto/sFD7PR...  82128 US Hwy 111  ...   \n",
       "2  https://s3-media4.fl.yelpcdn.com/bphoto/KhD18f...  1202 W Steele Ln  ...   \n",
       "3  https://s3-media3.fl.yelpcdn.com/bphoto/boCwI_...        140 2nd St  ...   \n",
       "4  https://s3-media1.fl.yelpcdn.com/bphoto/dZhs67...      976 Pearl St  ...   \n",
       "\n",
       "  location_country location_state location_zip_code  \\\n",
       "0               US             CA             92253   \n",
       "1               US             CA             92201   \n",
       "2               US             CA             95403   \n",
       "3               US             CA             94952   \n",
       "4               US             CA             94559   \n",
       "\n",
       "                            name         phone price rating  review_count  \\\n",
       "0                         Pho Vu  1.760775e+10     $    4.0           441   \n",
       "1              Pho of the Desert  1.760775e+10     $    4.0           252   \n",
       "2      Kettles Vietnamese Bistro  1.707528e+10    $$    4.0           380   \n",
       "3  Pho Sonoma Vietnamese Cuisine  1.707763e+10    $$    4.5           133   \n",
       "4                     Bui Bistro  1.707256e+10    $$    3.5           250   \n",
       "\n",
       "  transactions                                                url  \n",
       "0          NaN  https://www.yelp.com/biz/pho-vu-la-quinta?adju...  \n",
       "1          NaN  https://www.yelp.com/biz/pho-of-the-desert-ind...  \n",
       "2       pickup  https://www.yelp.com/biz/kettles-vietnamese-bi...  \n",
       "3          NaN  https://www.yelp.com/biz/pho-sonoma-vietnamese...  \n",
       "4          NaN  https://www.yelp.com/biz/bui-bistro-napa?adjus...  \n",
       "\n",
       "[5 rows x 23 columns]"
      ]
     },
     "execution_count": 232,
     "metadata": {},
     "output_type": "execute_result"
    }
   ],
   "source": [
    "t.head()"
   ]
  },
  {
   "cell_type": "code",
   "execution_count": null,
   "metadata": {},
   "outputs": [],
   "source": []
  }
 ],
 "metadata": {
  "kernelspec": {
   "display_name": "Python 3",
   "language": "python",
   "name": "python3"
  },
  "language_info": {
   "codemirror_mode": {
    "name": "ipython",
    "version": 3
   },
   "file_extension": ".py",
   "mimetype": "text/x-python",
   "name": "python",
   "nbconvert_exporter": "python",
   "pygments_lexer": "ipython3",
   "version": "3.7.2"
  },
  "toc": {
   "base_numbering": 1,
   "nav_menu": {},
   "number_sections": true,
   "sideBar": true,
   "skip_h1_title": false,
   "title_cell": "Table of Contents",
   "title_sidebar": "Contents",
   "toc_cell": false,
   "toc_position": {},
   "toc_section_display": true,
   "toc_window_display": false
  }
 },
 "nbformat": 4,
 "nbformat_minor": 2
}
